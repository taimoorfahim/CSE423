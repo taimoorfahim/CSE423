{
  "nbformat": 4,
  "nbformat_minor": 0,
  "metadata": {
    "colab": {
      "provenance": []
    },
    "kernelspec": {
      "name": "python3",
      "display_name": "Python 3"
    },
    "language_info": {
      "name": "python"
    },
    "accelerator": "GPU"
  },
  "cells": [
    {
      "cell_type": "code",
      "source": [
        "!pip install tensorflow==1.15.0"
      ],
      "metadata": {
        "colab": {
          "base_uri": "https://localhost:8080/"
        },
        "id": "L3y0yGFYiWRI",
        "outputId": "199edb35-8f15-4460-9119-f639d3a0c1ee"
      },
      "execution_count": null,
      "outputs": [
        {
          "output_type": "stream",
          "name": "stdout",
          "text": [
            "Looking in indexes: https://pypi.org/simple, https://us-python.pkg.dev/colab-wheels/public/simple/\n",
            "Collecting tensorflow==1.15.0\n",
            "  Downloading tensorflow-1.15.0-cp37-cp37m-manylinux2010_x86_64.whl (412.3 MB)\n",
            "\u001b[K     |████████████████████████████████| 412.3 MB 24 kB/s \n",
            "\u001b[?25hRequirement already satisfied: termcolor>=1.1.0 in /usr/local/lib/python3.7/dist-packages (from tensorflow==1.15.0) (2.0.1)\n",
            "Requirement already satisfied: protobuf>=3.6.1 in /usr/local/lib/python3.7/dist-packages (from tensorflow==1.15.0) (3.17.3)\n",
            "Collecting gast==0.2.2\n",
            "  Downloading gast-0.2.2.tar.gz (10 kB)\n",
            "Requirement already satisfied: wheel>=0.26 in /usr/local/lib/python3.7/dist-packages (from tensorflow==1.15.0) (0.37.1)\n",
            "Requirement already satisfied: opt-einsum>=2.3.2 in /usr/local/lib/python3.7/dist-packages (from tensorflow==1.15.0) (3.3.0)\n",
            "Requirement already satisfied: absl-py>=0.7.0 in /usr/local/lib/python3.7/dist-packages (from tensorflow==1.15.0) (1.3.0)\n",
            "Collecting keras-applications>=1.0.8\n",
            "  Downloading Keras_Applications-1.0.8-py3-none-any.whl (50 kB)\n",
            "\u001b[K     |████████████████████████████████| 50 kB 7.7 MB/s \n",
            "\u001b[?25hRequirement already satisfied: numpy<2.0,>=1.16.0 in /usr/local/lib/python3.7/dist-packages (from tensorflow==1.15.0) (1.21.6)\n",
            "Requirement already satisfied: google-pasta>=0.1.6 in /usr/local/lib/python3.7/dist-packages (from tensorflow==1.15.0) (0.2.0)\n",
            "Requirement already satisfied: astor>=0.6.0 in /usr/local/lib/python3.7/dist-packages (from tensorflow==1.15.0) (0.8.1)\n",
            "Collecting tensorflow-estimator==1.15.1\n",
            "  Downloading tensorflow_estimator-1.15.1-py2.py3-none-any.whl (503 kB)\n",
            "\u001b[K     |████████████████████████████████| 503 kB 64.3 MB/s \n",
            "\u001b[?25hCollecting tensorboard<1.16.0,>=1.15.0\n",
            "  Downloading tensorboard-1.15.0-py3-none-any.whl (3.8 MB)\n",
            "\u001b[K     |████████████████████████████████| 3.8 MB 49.2 MB/s \n",
            "\u001b[?25hRequirement already satisfied: wrapt>=1.11.1 in /usr/local/lib/python3.7/dist-packages (from tensorflow==1.15.0) (1.14.1)\n",
            "Requirement already satisfied: six>=1.10.0 in /usr/local/lib/python3.7/dist-packages (from tensorflow==1.15.0) (1.15.0)\n",
            "Requirement already satisfied: grpcio>=1.8.6 in /usr/local/lib/python3.7/dist-packages (from tensorflow==1.15.0) (1.49.1)\n",
            "Requirement already satisfied: keras-preprocessing>=1.0.5 in /usr/local/lib/python3.7/dist-packages (from tensorflow==1.15.0) (1.1.2)\n",
            "Requirement already satisfied: h5py in /usr/local/lib/python3.7/dist-packages (from keras-applications>=1.0.8->tensorflow==1.15.0) (3.1.0)\n",
            "Requirement already satisfied: werkzeug>=0.11.15 in /usr/local/lib/python3.7/dist-packages (from tensorboard<1.16.0,>=1.15.0->tensorflow==1.15.0) (1.0.1)\n",
            "Requirement already satisfied: markdown>=2.6.8 in /usr/local/lib/python3.7/dist-packages (from tensorboard<1.16.0,>=1.15.0->tensorflow==1.15.0) (3.4.1)\n",
            "Requirement already satisfied: setuptools>=41.0.0 in /usr/local/lib/python3.7/dist-packages (from tensorboard<1.16.0,>=1.15.0->tensorflow==1.15.0) (57.4.0)\n",
            "Requirement already satisfied: importlib-metadata>=4.4 in /usr/local/lib/python3.7/dist-packages (from markdown>=2.6.8->tensorboard<1.16.0,>=1.15.0->tensorflow==1.15.0) (4.13.0)\n",
            "Requirement already satisfied: zipp>=0.5 in /usr/local/lib/python3.7/dist-packages (from importlib-metadata>=4.4->markdown>=2.6.8->tensorboard<1.16.0,>=1.15.0->tensorflow==1.15.0) (3.9.0)\n",
            "Requirement already satisfied: typing-extensions>=3.6.4 in /usr/local/lib/python3.7/dist-packages (from importlib-metadata>=4.4->markdown>=2.6.8->tensorboard<1.16.0,>=1.15.0->tensorflow==1.15.0) (4.1.1)\n",
            "Requirement already satisfied: cached-property in /usr/local/lib/python3.7/dist-packages (from h5py->keras-applications>=1.0.8->tensorflow==1.15.0) (1.5.2)\n",
            "Building wheels for collected packages: gast\n",
            "  Building wheel for gast (setup.py) ... \u001b[?25l\u001b[?25hdone\n",
            "  Created wheel for gast: filename=gast-0.2.2-py3-none-any.whl size=7554 sha256=560d49d68d011faa2a112f892253d374a1fceed2c5967a47337fdd5452ce5b60\n",
            "  Stored in directory: /root/.cache/pip/wheels/21/7f/02/420f32a803f7d0967b48dd823da3f558c5166991bfd204eef3\n",
            "Successfully built gast\n",
            "Installing collected packages: tensorflow-estimator, tensorboard, keras-applications, gast, tensorflow\n",
            "  Attempting uninstall: tensorflow-estimator\n",
            "    Found existing installation: tensorflow-estimator 2.9.0\n",
            "    Uninstalling tensorflow-estimator-2.9.0:\n",
            "      Successfully uninstalled tensorflow-estimator-2.9.0\n",
            "  Attempting uninstall: tensorboard\n",
            "    Found existing installation: tensorboard 2.9.1\n",
            "    Uninstalling tensorboard-2.9.1:\n",
            "      Successfully uninstalled tensorboard-2.9.1\n",
            "  Attempting uninstall: gast\n",
            "    Found existing installation: gast 0.4.0\n",
            "    Uninstalling gast-0.4.0:\n",
            "      Successfully uninstalled gast-0.4.0\n",
            "  Attempting uninstall: tensorflow\n",
            "    Found existing installation: tensorflow 2.9.2\n",
            "    Uninstalling tensorflow-2.9.2:\n",
            "      Successfully uninstalled tensorflow-2.9.2\n",
            "\u001b[31mERROR: pip's dependency resolver does not currently take into account all the packages that are installed. This behaviour is the source of the following dependency conflicts.\n",
            "tensorflow-probability 0.16.0 requires gast>=0.3.2, but you have gast 0.2.2 which is incompatible.\n",
            "kapre 0.3.7 requires tensorflow>=2.0.0, but you have tensorflow 1.15.0 which is incompatible.\u001b[0m\n",
            "Successfully installed gast-0.2.2 keras-applications-1.0.8 tensorboard-1.15.0 tensorflow-1.15.0 tensorflow-estimator-1.15.1\n"
          ]
        }
      ]
    },
    {
      "cell_type": "code",
      "source": [
        "!pip install -q lucid>=0.2.3\n",
        "!pip install -q moviepy"
      ],
      "metadata": {
        "id": "YXv13t34XX7o"
      },
      "execution_count": null,
      "outputs": []
    },
    {
      "cell_type": "code",
      "source": [
        "!pip install imageio==2.4.1"
      ],
      "metadata": {
        "colab": {
          "base_uri": "https://localhost:8080/"
        },
        "id": "Eg1iOrd_FyrX",
        "outputId": "e6bfdb8f-106a-4f3f-8367-24b81c333296"
      },
      "execution_count": null,
      "outputs": [
        {
          "output_type": "stream",
          "name": "stdout",
          "text": [
            "Looking in indexes: https://pypi.org/simple, https://us-python.pkg.dev/colab-wheels/public/simple/\n",
            "Requirement already satisfied: imageio==2.4.1 in /usr/local/lib/python3.7/dist-packages (2.4.1)\n",
            "Requirement already satisfied: pillow in /usr/local/lib/python3.7/dist-packages (from imageio==2.4.1) (7.1.2)\n",
            "Requirement already satisfied: numpy in /usr/local/lib/python3.7/dist-packages (from imageio==2.4.1) (1.19.0)\n"
          ]
        }
      ]
    },
    {
      "cell_type": "code",
      "source": [
        "import numpy as np\n",
        "import json\n",
        "import moviepy.editor as mvp\n",
        "from google.colab import files\n",
        "import tensorflow.compat.v1.gfile as gfile\n",
        "import lucid.misc.io.showing as show"
      ],
      "metadata": {
        "id": "MuQfUYd6XYDH",
        "colab": {
          "base_uri": "https://localhost:8080/",
          "height": 380
        },
        "outputId": "3cfdadaf-e3ef-4832-b02f-e4880b1857d6"
      },
      "execution_count": null,
      "outputs": [
        {
          "output_type": "error",
          "ename": "RuntimeError",
          "evalue": "ignored",
          "traceback": [
            "\u001b[0;31m---------------------------------------------------------------------------\u001b[0m",
            "\u001b[0;31mRuntimeError\u001b[0m                              Traceback (most recent call last)",
            "\u001b[0;32m<ipython-input-11-f1c29285f3dc>\u001b[0m in \u001b[0;36m<module>\u001b[0;34m\u001b[0m\n\u001b[1;32m      1\u001b[0m \u001b[0;32mimport\u001b[0m \u001b[0mnumpy\u001b[0m \u001b[0;32mas\u001b[0m \u001b[0mnp\u001b[0m\u001b[0;34m\u001b[0m\u001b[0;34m\u001b[0m\u001b[0m\n\u001b[1;32m      2\u001b[0m \u001b[0;32mimport\u001b[0m \u001b[0mjson\u001b[0m\u001b[0;34m\u001b[0m\u001b[0;34m\u001b[0m\u001b[0m\n\u001b[0;32m----> 3\u001b[0;31m \u001b[0;32mimport\u001b[0m \u001b[0mmoviepy\u001b[0m\u001b[0;34m.\u001b[0m\u001b[0meditor\u001b[0m \u001b[0;32mas\u001b[0m \u001b[0mmvp\u001b[0m\u001b[0;34m\u001b[0m\u001b[0;34m\u001b[0m\u001b[0m\n\u001b[0m\u001b[1;32m      4\u001b[0m \u001b[0;32mfrom\u001b[0m \u001b[0mgoogle\u001b[0m\u001b[0;34m.\u001b[0m\u001b[0mcolab\u001b[0m \u001b[0;32mimport\u001b[0m \u001b[0mfiles\u001b[0m\u001b[0;34m\u001b[0m\u001b[0;34m\u001b[0m\u001b[0m\n\u001b[1;32m      5\u001b[0m \u001b[0;32mimport\u001b[0m \u001b[0mtensorflow\u001b[0m\u001b[0;34m.\u001b[0m\u001b[0mcompat\u001b[0m\u001b[0;34m.\u001b[0m\u001b[0mv1\u001b[0m\u001b[0;34m.\u001b[0m\u001b[0mgfile\u001b[0m \u001b[0;32mas\u001b[0m \u001b[0mgfile\u001b[0m\u001b[0;34m\u001b[0m\u001b[0;34m\u001b[0m\u001b[0m\n",
            "\u001b[0;32m/usr/local/lib/python3.7/dist-packages/moviepy/editor.py\u001b[0m in \u001b[0;36m<module>\u001b[0;34m\u001b[0m\n\u001b[1;32m     24\u001b[0m \u001b[0;31m# Checks to see if the user has set a place for their own version of ffmpeg\u001b[0m\u001b[0;34m\u001b[0m\u001b[0;34m\u001b[0m\u001b[0;34m\u001b[0m\u001b[0m\n\u001b[1;32m     25\u001b[0m \u001b[0;32mif\u001b[0m \u001b[0mos\u001b[0m\u001b[0;34m.\u001b[0m\u001b[0mgetenv\u001b[0m\u001b[0;34m(\u001b[0m\u001b[0;34m'FFMPEG_BINARY'\u001b[0m\u001b[0;34m,\u001b[0m \u001b[0;34m'ffmpeg-imageio'\u001b[0m\u001b[0;34m)\u001b[0m \u001b[0;34m==\u001b[0m \u001b[0;34m'ffmpeg-imageio'\u001b[0m\u001b[0;34m:\u001b[0m\u001b[0;34m\u001b[0m\u001b[0;34m\u001b[0m\u001b[0m\n\u001b[0;32m---> 26\u001b[0;31m     \u001b[0mimageio\u001b[0m\u001b[0;34m.\u001b[0m\u001b[0mplugins\u001b[0m\u001b[0;34m.\u001b[0m\u001b[0mffmpeg\u001b[0m\u001b[0;34m.\u001b[0m\u001b[0mdownload\u001b[0m\u001b[0;34m(\u001b[0m\u001b[0;34m)\u001b[0m\u001b[0;34m\u001b[0m\u001b[0;34m\u001b[0m\u001b[0m\n\u001b[0m\u001b[1;32m     27\u001b[0m \u001b[0;34m\u001b[0m\u001b[0m\n\u001b[1;32m     28\u001b[0m \u001b[0;31m# Clips\u001b[0m\u001b[0;34m\u001b[0m\u001b[0;34m\u001b[0m\u001b[0;34m\u001b[0m\u001b[0m\n",
            "\u001b[0;32m/usr/local/lib/python3.7/dist-packages/imageio/plugins/ffmpeg.py\u001b[0m in \u001b[0;36mdownload\u001b[0;34m(directory, force_download)\u001b[0m\n\u001b[1;32m     36\u001b[0m )\n\u001b[1;32m     37\u001b[0m \u001b[0;34m\u001b[0m\u001b[0m\n\u001b[0;32m---> 38\u001b[0;31m \u001b[0;34m\u001b[0m\u001b[0m\n\u001b[0m\u001b[1;32m     39\u001b[0m \u001b[0mISWIN\u001b[0m \u001b[0;34m=\u001b[0m \u001b[0msys\u001b[0m\u001b[0;34m.\u001b[0m\u001b[0mplatform\u001b[0m\u001b[0;34m.\u001b[0m\u001b[0mstartswith\u001b[0m\u001b[0;34m(\u001b[0m\u001b[0;34m\"win\"\u001b[0m\u001b[0;34m)\u001b[0m\u001b[0;34m\u001b[0m\u001b[0;34m\u001b[0m\u001b[0m\n\u001b[1;32m     40\u001b[0m \u001b[0;34m\u001b[0m\u001b[0m\n",
            "\u001b[0;31mRuntimeError\u001b[0m: imageio.ffmpeg.download() has been deprecated. Use 'pip install imageio-ffmpeg' instead.'"
          ]
        }
      ]
    },
    {
      "cell_type": "code",
      "source": [
        "from lucid.misc.gl.glcontext import create_opengl_context\n",
        "\n",
        "# Now it's safe to import OpenGL and EGL functions\n",
        "import OpenGL.GL as gl\n",
        "from OpenGL.GLU import *\n",
        "\n",
        "# create_opengl_context() creates GL context that is attached to an\n",
        "# offscreen surface of specified size. Note that rendering to buffers\n",
        "# of different size and format is still possible with OpenGL Framebuffers.\n",
        "#\n",
        "# Users are expected to directly use EGL calls in case more advanced\n",
        "# context management is required.\n",
        "WIDTH, HEIGHT = 800,600\n",
        "create_opengl_context((WIDTH, HEIGHT))\n",
        "    \n",
        "# OpenGL context is available here.\n",
        "\n",
        "print(gl.glGetString(gl.GL_VERSION))\n",
        "print(gl.glGetString(gl.GL_VENDOR)) \n",
        "#print(gl.glGetString(gl.GL_EXTENSIONS))"
      ],
      "metadata": {
        "id": "-dC6f5NBXcNu",
        "colab": {
          "base_uri": "https://localhost:8080/"
        },
        "outputId": "61a91c9a-0e1d-42f6-8059-5f4a0ba328be"
      },
      "execution_count": null,
      "outputs": [
        {
          "output_type": "stream",
          "name": "stdout",
          "text": [
            "b'4.6.0 NVIDIA 460.32.03'\n",
            "b'NVIDIA Corporation'\n"
          ]
        }
      ]
    },
    {
      "cell_type": "code",
      "source": [
        "from random import randrange\n",
        " \n",
        "gl.glClear(gl.GL_COLOR_BUFFER_BIT)\n",
        "gl.glColor3f(1,1,1)\n",
        "gl.glPointSize(4)\n",
        "gl.glBegin(gl.GL_POINTS)\n",
        "for i in range(50):\n",
        "  x=randrange(-100,100)\n",
        "  y=randrange(-100,100)\n",
        "  gl.glVertex2f(x/100,y/100)\n",
        "gl.glEnd()"
      ],
      "metadata": {
        "id": "ANi7Wf-hbL9Y"
      },
      "execution_count": null,
      "outputs": []
    },
    {
      "cell_type": "code",
      "source": [
        "img_buf = gl.glReadPixelsub(0, 0, WIDTH, HEIGHT, gl.GL_RGB, gl.GL_UNSIGNED_BYTE)\n",
        "img = np.frombuffer(img_buf, np.uint8).reshape(HEIGHT, WIDTH, 3)[::-1]\n",
        "show.image(img/255.0)"
      ],
      "metadata": {
        "colab": {
          "base_uri": "https://localhost:8080/",
          "height": 621
        },
        "id": "e6JCjyDMyE75",
        "outputId": "efd8f6e4-9acb-486f-a523-efecb91a412c"
      },
      "execution_count": null,
      "outputs": [
        {
          "output_type": "display_data",
          "data": {
            "text/plain": [
              "<IPython.core.display.HTML object>"
            ],
            "text/html": [
              "<img src=\"data:image/PNG;base64,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\" style=\"image-rendering: pixelated; image-rendering: crisp-edges;\">"
            ]
          },
          "metadata": {}
        }
      ]
    },
    {
      "cell_type": "code",
      "source": [
        "#task2\n",
        "\n",
        "gl.glColor3f(1,.7,0)\n",
        "\n",
        "\n",
        "\n",
        "def triangle(x1,x2,x3,y1,y2,y3):\n",
        "\n",
        "  gl.glBegin(gl.GL_LINES)\n",
        "\n",
        "  gl.glVertex2f(x1,y1 )\n",
        "\n",
        "  gl.glVertex2f(x2,y2)\n",
        "\n",
        "\n",
        "\n",
        "  gl.glVertex2f(x3,y3 )\n",
        "\n",
        "  gl.glVertex2f(x2,y2)\n",
        "\n",
        "\n",
        "\n",
        "  gl.glVertex2f(x1,y1 )\n",
        "\n",
        "  gl.glVertex2f(x3,y3)\n",
        "\n",
        "  gl.glEnd()\n",
        "\n",
        "triangle(.2,.5,.3,.3,.3,.5)\n",
        "\n",
        "\n",
        "\n",
        "\n",
        "\n",
        "\n",
        "\n",
        "def square(x1,x2,x3,x4,y1,y2,y3,y4):\n",
        "\n",
        "  gl.glBegin(gl.GL_LINES)\n",
        "\n",
        "  gl.glVertex2f(x1,y1 )\n",
        "\n",
        "  gl.glVertex2f(x2,y2)\n",
        "\n",
        "\n",
        "\n",
        "  gl.glVertex2f(x3,y3 )\n",
        "\n",
        "  gl.glVertex2f(x2,y2)\n",
        "\n",
        "\n",
        "\n",
        "  gl.glVertex2f(x1,y1 )\n",
        "\n",
        "  gl.glVertex2f(x4,y4)\n",
        "\n",
        "\n",
        "\n",
        "  gl.glVertex2f(x4,y4 )\n",
        "\n",
        "  gl.glVertex2f(x3,y3)\n",
        "\n",
        "  gl.glEnd()\n",
        "\n",
        "square(.2,.2,.5,.5,.3,0,0,.3)\n",
        "\n",
        "square(.3,.3,.35,.35,.15,0,0,.15)\n",
        "\n",
        "gl.glPointSize(5)\n",
        "\n",
        "gl.glColor3f(0,.5,0)\n",
        "\n",
        "gl.glBegin(gl.GL_POINTS)\n",
        "\n",
        "gl.glVertex(0.33,.07)\n",
        "\n",
        "gl.glEnd()\n",
        "\n",
        "square(.23,.23,.27,.27,.15,.1,.1,.15)\n",
        "\n",
        "square(.43,.43,.47,.47,.15,.1,.1,.15)"
      ],
      "metadata": {
        "id": "evjH-3l5fE3w",
        "colab": {
          "base_uri": "https://localhost:8080/",
          "height": 235
        },
        "outputId": "fbb45a91-2b64-4bb7-dc20-94ffcfa52c93"
      },
      "execution_count": null,
      "outputs": [
        {
          "output_type": "error",
          "ename": "NameError",
          "evalue": "ignored",
          "traceback": [
            "\u001b[0;31m---------------------------------------------------------------------------\u001b[0m",
            "\u001b[0;31mNameError\u001b[0m                                 Traceback (most recent call last)",
            "\u001b[0;32m<ipython-input-1-41b242b5eae2>\u001b[0m in \u001b[0;36m<module>\u001b[0;34m\u001b[0m\n\u001b[1;32m      1\u001b[0m \u001b[0;31m#task2\u001b[0m\u001b[0;34m\u001b[0m\u001b[0;34m\u001b[0m\u001b[0;34m\u001b[0m\u001b[0m\n\u001b[1;32m      2\u001b[0m \u001b[0;34m\u001b[0m\u001b[0m\n\u001b[0;32m----> 3\u001b[0;31m \u001b[0mgl\u001b[0m\u001b[0;34m.\u001b[0m\u001b[0mglColor3f\u001b[0m\u001b[0;34m(\u001b[0m\u001b[0;36m1\u001b[0m\u001b[0;34m,\u001b[0m\u001b[0;36m.7\u001b[0m\u001b[0;34m,\u001b[0m\u001b[0;36m0\u001b[0m\u001b[0;34m)\u001b[0m\u001b[0;34m\u001b[0m\u001b[0;34m\u001b[0m\u001b[0m\n\u001b[0m\u001b[1;32m      4\u001b[0m \u001b[0;34m\u001b[0m\u001b[0m\n\u001b[1;32m      5\u001b[0m \u001b[0;34m\u001b[0m\u001b[0m\n",
            "\u001b[0;31mNameError\u001b[0m: name 'gl' is not defined"
          ]
        }
      ]
    },
    {
      "cell_type": "code",
      "source": [
        "img_buf = gl.glReadPixelsub(0, 0, WIDTH, HEIGHT, gl.GL_RGB, gl.GL_UNSIGNED_BYTE)\n",
        "img = np.frombuffer(img_buf, np.uint8).reshape(HEIGHT, WIDTH, 3)[::-1]\n",
        "show.image(img/255.0)"
      ],
      "metadata": {
        "colab": {
          "base_uri": "https://localhost:8080/",
          "height": 621
        },
        "id": "uiU214Sdfg8y",
        "outputId": "a8e3ebbb-442e-4893-d999-58742b9916fe"
      },
      "execution_count": null,
      "outputs": [
        {
          "output_type": "display_data",
          "data": {
            "text/plain": [
              "<IPython.core.display.HTML object>"
            ],
            "text/html": [
              "<img src=\"data:image/PNG;base64,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\" style=\"image-rendering: pixelated; image-rendering: crisp-edges;\">"
            ]
          },
          "metadata": {}
        }
      ]
    },
    {
      "cell_type": "code",
      "source": [],
      "metadata": {
        "id": "T3VLNNQlfg37"
      },
      "execution_count": null,
      "outputs": []
    }
  ]
}