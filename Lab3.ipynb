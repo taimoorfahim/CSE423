{
  "nbformat": 4,
  "nbformat_minor": 0,
  "metadata": {
    "colab": {
      "provenance": []
    },
    "kernelspec": {
      "name": "python3",
      "display_name": "Python 3"
    },
    "language_info": {
      "name": "python"
    },
    "accelerator": "GPU"
  },
  "cells": [
    {
      "cell_type": "code",
      "source": [
        "!pip install tensorflow==1.15.0"
      ],
      "metadata": {
        "colab": {
          "base_uri": "https://localhost:8080/"
        },
        "id": "L3y0yGFYiWRI",
        "outputId": "2b4708d1-ed93-4a68-ac3b-ef3888a16f49"
      },
      "execution_count": null,
      "outputs": [
        {
          "output_type": "stream",
          "name": "stdout",
          "text": [
            "Looking in indexes: https://pypi.org/simple, https://us-python.pkg.dev/colab-wheels/public/simple/\n",
            "Collecting tensorflow==1.15.0\n",
            "  Downloading tensorflow-1.15.0-cp37-cp37m-manylinux2010_x86_64.whl (412.3 MB)\n",
            "\u001b[K     |████████████████████████████████| 412.3 MB 26 kB/s \n",
            "\u001b[?25hRequirement already satisfied: opt-einsum>=2.3.2 in /usr/local/lib/python3.7/dist-packages (from tensorflow==1.15.0) (3.3.0)\n",
            "Requirement already satisfied: absl-py>=0.7.0 in /usr/local/lib/python3.7/dist-packages (from tensorflow==1.15.0) (1.3.0)\n",
            "Collecting tensorflow-estimator==1.15.1\n",
            "  Downloading tensorflow_estimator-1.15.1-py2.py3-none-any.whl (503 kB)\n",
            "\u001b[K     |████████████████████████████████| 503 kB 40.3 MB/s \n",
            "\u001b[?25hCollecting gast==0.2.2\n",
            "  Downloading gast-0.2.2.tar.gz (10 kB)\n",
            "Requirement already satisfied: protobuf>=3.6.1 in /usr/local/lib/python3.7/dist-packages (from tensorflow==1.15.0) (3.19.6)\n",
            "Requirement already satisfied: google-pasta>=0.1.6 in /usr/local/lib/python3.7/dist-packages (from tensorflow==1.15.0) (0.2.0)\n",
            "Collecting keras-applications>=1.0.8\n",
            "  Downloading Keras_Applications-1.0.8-py3-none-any.whl (50 kB)\n",
            "\u001b[K     |████████████████████████████████| 50 kB 7.5 MB/s \n",
            "\u001b[?25hRequirement already satisfied: numpy<2.0,>=1.16.0 in /usr/local/lib/python3.7/dist-packages (from tensorflow==1.15.0) (1.21.6)\n",
            "Requirement already satisfied: grpcio>=1.8.6 in /usr/local/lib/python3.7/dist-packages (from tensorflow==1.15.0) (1.50.0)\n",
            "Collecting tensorboard<1.16.0,>=1.15.0\n",
            "  Downloading tensorboard-1.15.0-py3-none-any.whl (3.8 MB)\n",
            "\u001b[K     |████████████████████████████████| 3.8 MB 42.6 MB/s \n",
            "\u001b[?25hRequirement already satisfied: six>=1.10.0 in /usr/local/lib/python3.7/dist-packages (from tensorflow==1.15.0) (1.15.0)\n",
            "Requirement already satisfied: wrapt>=1.11.1 in /usr/local/lib/python3.7/dist-packages (from tensorflow==1.15.0) (1.14.1)\n",
            "Requirement already satisfied: wheel>=0.26 in /usr/local/lib/python3.7/dist-packages (from tensorflow==1.15.0) (0.38.4)\n",
            "Requirement already satisfied: keras-preprocessing>=1.0.5 in /usr/local/lib/python3.7/dist-packages (from tensorflow==1.15.0) (1.1.2)\n",
            "Requirement already satisfied: astor>=0.6.0 in /usr/local/lib/python3.7/dist-packages (from tensorflow==1.15.0) (0.8.1)\n",
            "Requirement already satisfied: termcolor>=1.1.0 in /usr/local/lib/python3.7/dist-packages (from tensorflow==1.15.0) (2.1.0)\n",
            "Requirement already satisfied: h5py in /usr/local/lib/python3.7/dist-packages (from keras-applications>=1.0.8->tensorflow==1.15.0) (3.1.0)\n",
            "Requirement already satisfied: setuptools>=41.0.0 in /usr/local/lib/python3.7/dist-packages (from tensorboard<1.16.0,>=1.15.0->tensorflow==1.15.0) (57.4.0)\n",
            "Requirement already satisfied: werkzeug>=0.11.15 in /usr/local/lib/python3.7/dist-packages (from tensorboard<1.16.0,>=1.15.0->tensorflow==1.15.0) (1.0.1)\n",
            "Requirement already satisfied: markdown>=2.6.8 in /usr/local/lib/python3.7/dist-packages (from tensorboard<1.16.0,>=1.15.0->tensorflow==1.15.0) (3.4.1)\n",
            "Requirement already satisfied: importlib-metadata>=4.4 in /usr/local/lib/python3.7/dist-packages (from markdown>=2.6.8->tensorboard<1.16.0,>=1.15.0->tensorflow==1.15.0) (4.13.0)\n",
            "Requirement already satisfied: zipp>=0.5 in /usr/local/lib/python3.7/dist-packages (from importlib-metadata>=4.4->markdown>=2.6.8->tensorboard<1.16.0,>=1.15.0->tensorflow==1.15.0) (3.10.0)\n",
            "Requirement already satisfied: typing-extensions>=3.6.4 in /usr/local/lib/python3.7/dist-packages (from importlib-metadata>=4.4->markdown>=2.6.8->tensorboard<1.16.0,>=1.15.0->tensorflow==1.15.0) (4.1.1)\n",
            "Requirement already satisfied: cached-property in /usr/local/lib/python3.7/dist-packages (from h5py->keras-applications>=1.0.8->tensorflow==1.15.0) (1.5.2)\n",
            "Building wheels for collected packages: gast\n",
            "  Building wheel for gast (setup.py) ... \u001b[?25l\u001b[?25hdone\n",
            "  Created wheel for gast: filename=gast-0.2.2-py3-none-any.whl size=7554 sha256=4c5cfda1a0fc820504d6b094d79455d1088ba1c1e41a1c10297cb05fb1a9198e\n",
            "  Stored in directory: /root/.cache/pip/wheels/21/7f/02/420f32a803f7d0967b48dd823da3f558c5166991bfd204eef3\n",
            "Successfully built gast\n",
            "Installing collected packages: tensorflow-estimator, tensorboard, keras-applications, gast, tensorflow\n",
            "  Attempting uninstall: tensorflow-estimator\n",
            "    Found existing installation: tensorflow-estimator 2.9.0\n",
            "    Uninstalling tensorflow-estimator-2.9.0:\n",
            "      Successfully uninstalled tensorflow-estimator-2.9.0\n",
            "  Attempting uninstall: tensorboard\n",
            "    Found existing installation: tensorboard 2.9.1\n",
            "    Uninstalling tensorboard-2.9.1:\n",
            "      Successfully uninstalled tensorboard-2.9.1\n",
            "  Attempting uninstall: gast\n",
            "    Found existing installation: gast 0.4.0\n",
            "    Uninstalling gast-0.4.0:\n",
            "      Successfully uninstalled gast-0.4.0\n",
            "  Attempting uninstall: tensorflow\n",
            "    Found existing installation: tensorflow 2.9.2\n",
            "    Uninstalling tensorflow-2.9.2:\n",
            "      Successfully uninstalled tensorflow-2.9.2\n",
            "\u001b[31mERROR: pip's dependency resolver does not currently take into account all the packages that are installed. This behaviour is the source of the following dependency conflicts.\n",
            "tensorflow-probability 0.17.0 requires gast>=0.3.2, but you have gast 0.2.2 which is incompatible.\n",
            "kapre 0.3.7 requires tensorflow>=2.0.0, but you have tensorflow 1.15.0 which is incompatible.\u001b[0m\n",
            "Successfully installed gast-0.2.2 keras-applications-1.0.8 tensorboard-1.15.0 tensorflow-1.15.0 tensorflow-estimator-1.15.1\n"
          ]
        }
      ]
    },
    {
      "cell_type": "code",
      "source": [
        "!pip install -q lucid>=0.2.3\n",
        "!pip install -q moviepy"
      ],
      "metadata": {
        "id": "YXv13t34XX7o"
      },
      "execution_count": null,
      "outputs": []
    },
    {
      "cell_type": "code",
      "source": [
        "!pip install imageio==2.4.1"
      ],
      "metadata": {
        "colab": {
          "base_uri": "https://localhost:8080/"
        },
        "id": "Eg1iOrd_FyrX",
        "outputId": "f8d22f22-6fea-45d4-dec3-2931c27e4f97"
      },
      "execution_count": null,
      "outputs": [
        {
          "output_type": "stream",
          "name": "stdout",
          "text": [
            "Looking in indexes: https://pypi.org/simple, https://us-python.pkg.dev/colab-wheels/public/simple/\n",
            "Collecting imageio==2.4.1\n",
            "  Downloading imageio-2.4.1.tar.gz (3.3 MB)\n",
            "\u001b[K     |████████████████████████████████| 3.3 MB 14.4 MB/s \n",
            "\u001b[?25hRequirement already satisfied: numpy in /usr/local/lib/python3.7/dist-packages (from imageio==2.4.1) (1.19.0)\n",
            "Requirement already satisfied: pillow in /usr/local/lib/python3.7/dist-packages (from imageio==2.4.1) (7.1.2)\n",
            "Building wheels for collected packages: imageio\n",
            "  Building wheel for imageio (setup.py) ... \u001b[?25l\u001b[?25hdone\n",
            "  Created wheel for imageio: filename=imageio-2.4.1-py3-none-any.whl size=3303886 sha256=44d2078bc8335891c8219881bb3036bd5ee4e9059be79c67a7c5b92ac3355382\n",
            "  Stored in directory: /root/.cache/pip/wheels/46/20/07/7bb9c8c44e6ec2efa60fd0e6280094f53f65f41767ef69a5ee\n",
            "Successfully built imageio\n",
            "Installing collected packages: imageio\n",
            "  Attempting uninstall: imageio\n",
            "    Found existing installation: imageio 2.9.0\n",
            "    Uninstalling imageio-2.9.0:\n",
            "      Successfully uninstalled imageio-2.9.0\n",
            "Successfully installed imageio-2.4.1\n"
          ]
        }
      ]
    },
    {
      "cell_type": "code",
      "source": [
        "import numpy as np\n",
        "import json\n",
        "import moviepy.editor as mvp\n",
        "from google.colab import files\n",
        "import tensorflow.compat.v1.gfile as gfile\n",
        "import lucid.misc.io.showing as show"
      ],
      "metadata": {
        "id": "MuQfUYd6XYDH",
        "colab": {
          "base_uri": "https://localhost:8080/"
        },
        "outputId": "e8ec333c-dcb8-4347-b755-dbb07103d955"
      },
      "execution_count": null,
      "outputs": [
        {
          "output_type": "stream",
          "name": "stdout",
          "text": [
            "Imageio: 'ffmpeg-linux64-v3.3.1' was not found on your computer; downloading it now.\n",
            "Try 1. Download from https://github.com/imageio/imageio-binaries/raw/master/ffmpeg/ffmpeg-linux64-v3.3.1 (43.8 MB)\n",
            "Downloading: 8192/45929032 bytes (0.0%)\b\b\b\b\b\b\b\b\b\b\b\b\b\b\b\b\b\b\b\b\b\b\b\b\b\b3440640/45929032 bytes (7.5%)\b\b\b\b\b\b\b\b\b\b\b\b\b\b\b\b\b\b\b\b\b\b\b\b\b\b\b\b\b7503872/45929032 bytes (16.3%)\b\b\b\b\b\b\b\b\b\b\b\b\b\b\b\b\b\b\b\b\b\b\b\b\b\b\b\b\b\b11583488/45929032 bytes (25.2%)\b\b\b\b\b\b\b\b\b\b\b\b\b\b\b\b\b\b\b\b\b\b\b\b\b\b\b\b\b\b\b15826944/45929032 bytes (34.5%)\b\b\b\b\b\b\b\b\b\b\b\b\b\b\b\b\b\b\b\b\b\b\b\b\b\b\b\b\b\b\b19677184/45929032 bytes (42.8%)\b\b\b\b\b\b\b\b\b\b\b\b\b\b\b\b\b\b\b\b\b\b\b\b\b\b\b\b\b\b\b23797760/45929032 bytes (51.8%)\b\b\b\b\b\b\b\b\b\b\b\b\b\b\b\b\b\b\b\b\b\b\b\b\b\b\b\b\b\b\b27713536/45929032 bytes (60.3%)\b\b\b\b\b\b\b\b\b\b\b\b\b\b\b\b\b\b\b\b\b\b\b\b\b\b\b\b\b\b\b31768576/45929032 bytes (69.2%)\b\b\b\b\b\b\b\b\b\b\b\b\b\b\b\b\b\b\b\b\b\b\b\b\b\b\b\b\b\b\b35692544/45929032 bytes (77.7%)\b\b\b\b\b\b\b\b\b\b\b\b\b\b\b\b\b\b\b\b\b\b\b\b\b\b\b\b\b\b\b38723584/45929032 bytes (84.3%)\b\b\b\b\b\b\b\b\b\b\b\b\b\b\b\b\b\b\b\b\b\b\b\b\b\b\b\b\b\b\b41934848/45929032 bytes (91.3%)\b\b\b\b\b\b\b\b\b\b\b\b\b\b\b\b\b\b\b\b\b\b\b\b\b\b\b\b\b\b\b44908544/45929032 bytes (97.8%)\b\b\b\b\b\b\b\b\b\b\b\b\b\b\b\b\b\b\b\b\b\b\b\b\b\b\b\b\b\b\b45929032/45929032 bytes (100.0%)\n",
            "  Done\n",
            "File saved as /root/.imageio/ffmpeg/ffmpeg-linux64-v3.3.1.\n"
          ]
        }
      ]
    },
    {
      "cell_type": "code",
      "source": [
        "from lucid.misc.gl.glcontext import create_opengl_context\n",
        "\n",
        "# Now it's safe to import OpenGL and EGL functions\n",
        "import OpenGL.GL as gl\n",
        "from OpenGL.GLU import *\n",
        "\n",
        "# create_opengl_context() creates GL context that is attached to an\n",
        "# offscreen surface of specified size. Note that rendering to buffers\n",
        "# of different size and format is still possible with OpenGL Framebuffers.\n",
        "#\n",
        "# Users are expected to directly use EGL calls in case more advanced\n",
        "# context management is required.\n",
        "WIDTH, HEIGHT = 800,600\n",
        "create_opengl_context((WIDTH, HEIGHT))\n",
        "    \n",
        "# OpenGL context is available here.\n",
        "\n",
        "print(gl.glGetString(gl.GL_VERSION))\n",
        "print(gl.glGetString(gl.GL_VENDOR)) \n",
        "#print(gl.glGetString(gl.GL_EXTENSIONS))"
      ],
      "metadata": {
        "id": "-dC6f5NBXcNu",
        "colab": {
          "base_uri": "https://localhost:8080/"
        },
        "outputId": "ac683395-4a27-48d9-b6ad-133f50242261"
      },
      "execution_count": null,
      "outputs": [
        {
          "output_type": "stream",
          "name": "stdout",
          "text": [
            "b'4.6.0 NVIDIA 460.32.03'\n",
            "b'NVIDIA Corporation'\n"
          ]
        }
      ]
    },
    {
      "cell_type": "code",
      "source": [
        "def fraction(x,y):\n",
        "  return (x/100,y/100)\n",
        "\n",
        "import math\n",
        "def midpointCircle(a,b,r):\n",
        "  gl.glColor3f(1,0,1)\n",
        "  gl.glPointSize(1)\n",
        "  gl.glBegin(gl.GL_POINTS)\n",
        "  a,b=fraction(a,b)\n",
        "  x=0\n",
        "  y=r\n",
        "  d=0.001-r\n",
        "\n",
        "  while x<y:\n",
        "    m=x\n",
        "    n=y\n",
        "    m,n=fraction(x,y)\n",
        "    gl.glVertex2f(n+a,m+b)#0\n",
        "    gl.glVertex2f(m+a,n+b)#1\n",
        "    gl.glVertex2f(-m+a,n+b)#2\n",
        "    gl.glVertex2f(-n+a,m+b)#3\n",
        "    gl.glVertex2f(-n+a,-m+b)#4\n",
        "    gl.glVertex2f(-m+a,-n+b)#5\n",
        "    gl.glVertex2f(m+a,-n+b)#6\n",
        "    gl.glVertex2f(n+a,-m+b)#7\n",
        "    if d>=0:\n",
        "      #SE\n",
        "      d=d+2*x-2*y+0.005\n",
        "      x+=0.001\n",
        "      y-=0.001\n",
        "    else:\n",
        "      #E\n",
        "      d=d+2*x+0.003\n",
        "      x+=0.001\n",
        "  gl.glEnd()\n",
        "\n",
        "def smallCircles(a,b,r):\n",
        "  midpointCircle(a+(r/2),b,r/2)\n",
        "  midpointCircle(a-(r/2),b,r/2)\n",
        "  midpointCircle(a,b+(r/2),r/2)\n",
        "  midpointCircle(a,b-(r/2),r/2)\n",
        "  #corner\n",
        "  formula=math.sqrt(r**2/8)\n",
        "  midpointCircle(a+formula,b+formula,r/2)\n",
        "  midpointCircle(a-formula,b+formula,r/2)\n",
        "  midpointCircle(a+formula,b-formula,r/2)\n",
        "  midpointCircle(a-formula,b-formula,r/2)\n",
        "\n",
        "\n",
        "midpointCircle(0,0,45)\n",
        "smallCircles(0,0,45)\n"
      ],
      "metadata": {
        "id": "ANi7Wf-hbL9Y"
      },
      "execution_count": null,
      "outputs": []
    },
    {
      "cell_type": "code",
      "source": [],
      "metadata": {
        "id": "fr74pM4SnqYe"
      },
      "execution_count": null,
      "outputs": []
    },
    {
      "cell_type": "code",
      "source": [],
      "metadata": {
        "id": "y9xW1SFmnqSe"
      },
      "execution_count": null,
      "outputs": []
    },
    {
      "cell_type": "code",
      "source": [
        "img_buf = gl.glReadPixelsub(0, 0, WIDTH, HEIGHT, gl.GL_RGB, gl.GL_UNSIGNED_BYTE)\n",
        "img = np.frombuffer(img_buf, np.uint8).reshape(HEIGHT, WIDTH, 3)[::-1]\n",
        "show.image(img/255.0)"
      ],
      "metadata": {
        "colab": {
          "base_uri": "https://localhost:8080/",
          "height": 621
        },
        "id": "e6JCjyDMyE75",
        "outputId": "b996157c-ffef-4a4b-817c-bd7cfe1abc12"
      },
      "execution_count": null,
      "outputs": [
        {
          "output_type": "display_data",
          "data": {
            "text/plain": [
              "<IPython.core.display.HTML object>"
            ],
            "text/html": [
              "<img src=\"data:image/PNG;base64,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\" style=\"image-rendering: pixelated; image-rendering: crisp-edges;\">"
            ]
          },
          "metadata": {}
        }
      ]
    },
    {
      "cell_type": "code",
      "source": [],
      "metadata": {
        "id": "evjH-3l5fE3w"
      },
      "execution_count": null,
      "outputs": []
    }
  ]
}